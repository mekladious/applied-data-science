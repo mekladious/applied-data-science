{
 "cells": [
  {
   "cell_type": "code",
   "execution_count": 4,
   "metadata": {},
   "outputs": [],
   "source": [
    "import numpy as np\n",
    "import pandas as pd\n",
    "import time"
   ]
  },
  {
   "cell_type": "code",
   "execution_count": 31,
   "metadata": {},
   "outputs": [],
   "source": [
    "prod_filepath = \"./data/production_data.csv\"\n",
    "df_prod = pd.read_csv(prod_filepath,low_memory=False)\n",
    "\n",
    "alias_filepath = \"./data/operator_aliasing.csv\"\n",
    "df_alias = pd.read_csv(alias_filepath,low_memory=False)\n",
    "\n",
    "wells_filepath = \"./data/wellsData.csv\"\n",
    "df_wells = pd.read_csv(wells_filepath,low_memory=False)"
   ]
  },
  {
   "cell_type": "markdown",
   "metadata": {},
   "source": [
    "Adjusting API by adding a leading zero to APIs starting with '5'"
   ]
  },
  {
   "cell_type": "code",
   "execution_count": 32,
   "metadata": {},
   "outputs": [],
   "source": [
    "start = time.time()\n",
    "df_prod.API=df_prod.API.apply(lambda value: str(value).zfill(14))\n",
    "df_wells.API=df_wells.API.apply(lambda value: str(value).zfill(14))"
   ]
  },
  {
   "cell_type": "markdown",
   "metadata": {},
   "source": [
    "Add Operator Alias"
   ]
  },
  {
   "cell_type": "code",
   "execution_count": 33,
   "metadata": {},
   "outputs": [],
   "source": [
    "filter_col = np.append(df_prod.columns, ['Alias'])\n",
    "\n",
    "wells_alias_df = df_alias[['Name', 'Alias']].merge(df_wells[['operatorNameIHS', 'API']], left_on='Name', right_on='operatorNameIHS', how='right')\n",
    "new_df = (df_prod.merge(wells_alias_df[['operatorNameIHS', 'Alias', 'API']], on='API', how='left'))\n",
    "\n",
    "new_df = new_df.fillna({'Alias':new_df.operatorNameIHS})[filter_col]"
   ]
  },
  {
   "cell_type": "markdown",
   "metadata": {},
   "source": [
    "Remove Pre-Peak Months"
   ]
  },
  {
   "cell_type": "code",
   "execution_count": 34,
   "metadata": {},
   "outputs": [],
   "source": [
    "# filtering out post-peak records with 0 oil production\n",
    "# tmp_df = new_df[filter_col][new_df['Liquid']!=0]\n",
    "\n",
    "# getting peak records\n",
    "# new_df = new_df.sort_values(['Year','Month'])\n",
    "# peak_records = new_df.loc[new_df.groupby('API')['Liquid'].idxmax()]\n",
    "\n",
    "peak_records = new_df[new_df.groupby(['API'], sort=False)['Liquid'].transform(max) == new_df['Liquid']]\n",
    "# peak_records = peak_records[np.logical_and(peak_records.groupby(['API'], sort=False)['Year'].transform(min) == peak_records['Year'],peak_records.groupby(['API'], sort=False)['Month'].transform(min) == peak_records['Month'])]\n",
    "# peak_records = peak_records[peak_records['Liquid']!=0]\n",
    "\n",
    "# filtering out pre-peak months\n",
    "peak_records = peak_records.rename(columns={\"Month\": \"PeakMonth\", \"Year\": \"PeakYear\"})\n",
    "new_df_with_peak = pd.merge(new_df, peak_records[[\"API\", \"PeakMonth\", \"PeakYear\"]], on='API', how='left')\n",
    "post_peak = new_df_with_peak[np.logical_or((new_df_with_peak['Year'] > new_df_with_peak['PeakYear']),np.logical_and((new_df_with_peak['Year'] == new_df_with_peak['PeakYear']),(new_df_with_peak['Month'] >= new_df_with_peak['PeakMonth'])))][filter_col]\n",
    "# print(post_peak.shape)\n",
    "# post_peak=post_peak.drop_duplicates()\n",
    "# print(post_peak.shape)\n",
    "\n",
    "# post_peak[post_peak['Liquid']==0]\n",
    "\n"
   ]
  },
  {
   "cell_type": "markdown",
   "metadata": {},
   "source": [
    "Add a Month Index Column"
   ]
  },
  {
   "cell_type": "code",
   "execution_count": 35,
   "metadata": {},
   "outputs": [
    {
     "name": "stdout",
     "output_type": "stream",
     "text": [
      "23.10225486755371\n"
     ]
    }
   ],
   "source": [
    "post_peak['MonthIdx'] = post_peak.sort_values(['Year','Month']).groupby(['API'], sort=False).cumcount()+1\n",
    "end = time.time()\n",
    "tt = end - start\n",
    "print(tt)"
   ]
  },
  {
   "cell_type": "code",
   "execution_count": 36,
   "metadata": {},
   "outputs": [],
   "source": [
    "post_peak.to_csv(\"./data/processed_production_data(3).csv\")\n",
    "# df_wells.to_csv(\"./data/processed_wells_data.csv\")"
   ]
  },
  {
   "cell_type": "code",
   "execution_count": null,
   "metadata": {},
   "outputs": [],
   "source": []
  },
  {
   "cell_type": "code",
   "execution_count": null,
   "metadata": {},
   "outputs": [],
   "source": []
  }
 ],
 "metadata": {
  "kernelspec": {
   "display_name": "Python 3",
   "language": "python",
   "name": "python3"
  },
  "language_info": {
   "codemirror_mode": {
    "name": "ipython",
    "version": 3
   },
   "file_extension": ".py",
   "mimetype": "text/x-python",
   "name": "python",
   "nbconvert_exporter": "python",
   "pygments_lexer": "ipython3",
   "version": "3.5.4"
  }
 },
 "nbformat": 4,
 "nbformat_minor": 2
}
