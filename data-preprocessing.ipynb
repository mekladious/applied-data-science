{
 "cells": [
  {
   "cell_type": "code",
   "execution_count": 2,
   "metadata": {},
   "outputs": [],
   "source": [
    "import numpy as np\n",
    "import pandas as pd\n",
    "import time"
   ]
  },
  {
   "cell_type": "code",
   "execution_count": null,
   "metadata": {},
   "outputs": [],
   "source": [
    "prod_filepath = \"./data/production_data.csv\"\n",
    "df_prod = pd.read_csv(prod_filepath)\n",
    "\n",
    "alias_filepath = \"./data/operator_aliasing.csv\"\n",
    "df_alias = pd.read_csv(alias_filepath)\n",
    "\n",
    "wells_filepath = \"./data/wellsData.csv\"\n",
    "df_wells = pd.read_csv(wells_filepath)"
   ]
  },
  {
   "cell_type": "markdown",
   "metadata": {},
   "source": [
    "Adjusting API by adding a leading zero to APIs starting with '5'"
   ]
  },
  {
   "cell_type": "code",
   "execution_count": null,
   "metadata": {},
   "outputs": [],
   "source": [
    "start = time.time()\n",
    "df_prod.API=df_prod.API.astype(str).apply(lambda value:value.zfill(14))"
   ]
  },
  {
   "cell_type": "markdown",
   "metadata": {},
   "source": [
    "Add Operator Alias"
   ]
  },
  {
   "cell_type": "code",
   "execution_count": null,
   "metadata": {},
   "outputs": [],
   "source": [
    "filter_col = df_prod.columns\n",
    "filter_col = np.append(filter_col, ['Alias'])\n",
    "\n",
    "df_wells.API=df_wells['API'].astype(str)\n",
    "\n",
    "wells_alias_df = df_alias[['Name', 'Alias']].merge(df_wells[['operatorNameIHS', 'API']], left_on='Name', right_on='operatorNameIHS', how='outer')\n",
    "new_df = (df_prod.merge(wells_alias_df[['operatorNameIHS', 'Alias', 'API']], on='API', how='left'))\n",
    "\n",
    "new_df.Alias.fillna(new_df.operatorNameIHS, inplace=True)"
   ]
  },
  {
   "cell_type": "markdown",
   "metadata": {},
   "source": [
    "Remove Pre-Peak Months"
   ]
  },
  {
   "cell_type": "code",
   "execution_count": null,
   "metadata": {},
   "outputs": [],
   "source": [
    "# filtering out post-peak records with 0 oil production\n",
    "tmp_df = new_df[filter_col][new_df['Liquid']!=0]\n",
    "\n",
    "# getting peak records\n",
    "prod_grouped = tmp_df.groupby(['API'], sort=False)\n",
    "peak_records = tmp_df[prod_grouped['Liquid'].transform(max) == tmp_df['Liquid']]\n",
    "\n",
    "# filtering out pre-peak months\n",
    "peak_records = peak_records.rename(columns={\"Month\": \"PeakMonth\", \"Year\": \"PeakYear\"})\n",
    "tmp_df = pd.merge(tmp_df, peak_records[[\"API\", \"PeakMonth\", \"PeakYear\"]], on='API', how='left')\n",
    "post_peak = tmp_df[np.logical_or((tmp_df['Year'] > tmp_df['PeakYear']),np.logical_and((tmp_df['Year']==tmp_df['PeakYear']),(tmp_df['Month']>tmp_df['PeakMonth'])))].sort_values(['Year','Month'])[filter_col]"
   ]
  },
  {
   "cell_type": "markdown",
   "metadata": {},
   "source": [
    "Add a Month Index Column"
   ]
  },
  {
   "cell_type": "code",
   "execution_count": null,
   "metadata": {},
   "outputs": [],
   "source": [
    "post_peak['MonthIdx'] = post_peak.groupby(['API'], sort=False).cumcount()+1\n",
    "end = time.time()\n",
    "tt = end - start\n",
    "print(tt)"
   ]
  },
  {
   "cell_type": "code",
   "execution_count": null,
   "metadata": {},
   "outputs": [],
   "source": [
    "# tmp_df.to_csv('data/out.csv')"
   ]
  }
 ],
 "metadata": {
  "kernelspec": {
   "display_name": "Python 3",
   "language": "python",
   "name": "python3"
  },
  "language_info": {
   "codemirror_mode": {
    "name": "ipython",
    "version": 3
   },
   "file_extension": ".py",
   "mimetype": "text/x-python",
   "name": "python",
   "nbconvert_exporter": "python",
   "pygments_lexer": "ipython3",
   "version": "3.5.4"
  }
 },
 "nbformat": 4,
 "nbformat_minor": 2
}
