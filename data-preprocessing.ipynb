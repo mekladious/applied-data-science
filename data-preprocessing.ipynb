{
 "cells": [
  {
   "cell_type": "code",
   "execution_count": 2,
   "metadata": {},
   "outputs": [],
   "source": [
    "import numpy as np\n",
    "import pandas as pd\n",
    "import time"
   ]
  },
  {
   "cell_type": "code",
   "execution_count": null,
   "metadata": {},
   "outputs": [],
   "source": [
    "prod_filepath = \"./data/production_data.csv\"\n",
    "df_prod = pd.read_csv(prod_filepath)\n",
    "\n",
    "alias_filepath = \"./data/operator_aliasing.csv\"\n",
    "df_alias = pd.read_csv(alias_filepath)\n",
    "\n",
    "wells_filepath = \"./data/wellsData.csv\"\n",
    "df_wells = pd.read_csv(wells_filepath)"
   ]
  },
  {
   "cell_type": "markdown",
   "metadata": {},
   "source": [
    "Adjusting API by adding a leading zero to APIs starting with '5'"
   ]
  },
  {
   "cell_type": "code",
   "execution_count": null,
   "metadata": {},
   "outputs": [],
   "source": [
    "start = time.time()\n",
    "df_prod.API=df_prod.API.astype(str).str.zfill(14)\n",
    "df_wells.API=df_wells['API'].astype(str)"
   ]
  },
  {
   "cell_type": "markdown",
   "metadata": {},
   "source": [
    "Add Operator Alias"
   ]
  },
  {
   "cell_type": "code",
   "execution_count": null,
   "metadata": {},
   "outputs": [],
   "source": [
    "filter_col = np.append(df_prod.columns, ['Alias'])\n",
    "\n",
    "# wells_alias_df = df_alias[['Name', 'Alias']].merge(df_wells[['operatorNameIHS', 'API']], left_on='Name', right_on='operatorNameIHS', how='outer')\n",
    "new_df = (df_prod.merge(df_alias[['Name', 'Alias']].merge(df_wells[['operatorNameIHS', 'API']], left_on='Name', right_on='operatorNameIHS', how='right')[['operatorNameIHS', 'Alias', 'API']], on='API', how='left'))\n",
    "\n",
    "new_df = new_df.fillna({'API':new_df.operatorNameIHS})[filter_col]"
   ]
  },
  {
   "cell_type": "markdown",
   "metadata": {},
   "source": [
    "Remove Pre-Peak Months"
   ]
  },
  {
   "cell_type": "code",
   "execution_count": null,
   "metadata": {},
   "outputs": [],
   "source": [
    "# filtering out post-peak records with 0 oil production\n",
    "# tmp_df = new_df[filter_col][new_df['Liquid']!=0]\n",
    "\n",
    "# getting peak records\n",
    "peak_records = new_df[new_df.groupby(['API'], sort=False)['Liquid'].transform(max) == new_df['Liquid']]\n",
    "\n",
    "# filtering out pre-peak months\n",
    "peak_records = peak_records.rename(columns={\"Month\": \"PeakMonth\", \"Year\": \"PeakYear\"})\n",
    "new_df = pd.merge(new_df, peak_records[[\"API\", \"PeakMonth\", \"PeakYear\"]], on='API', how='left')\n",
    "post_peak = new_df[np.logical_or((new_df['Year'] > new_df['PeakYear']),np.logical_and((new_df['Year']==new_df['PeakYear']),(new_df['Month']>new_df['PeakMonth'])))].sort_values(['Year','Month'])[filter_col]"
   ]
  },
  {
   "cell_type": "markdown",
   "metadata": {},
   "source": [
    "Add a Month Index Column"
   ]
  },
  {
   "cell_type": "code",
   "execution_count": null,
   "metadata": {},
   "outputs": [],
   "source": [
    "post_peak['MonthIdx'] = post_peak.groupby(['API'], sort=False).cumcount()+1\n",
    "end = time.time()\n",
    "tt = end - start\n",
    "print(tt)"
   ]
  },
  {
   "cell_type": "code",
   "execution_count": null,
   "metadata": {},
   "outputs": [],
   "source": [
    "# tmp_df.to_csv('data/out.csv')"
   ]
  }
 ],
 "metadata": {
  "kernelspec": {
   "display_name": "Python 3",
   "language": "python",
   "name": "python3"
  },
  "language_info": {
   "codemirror_mode": {
    "name": "ipython",
    "version": 3
   },
   "file_extension": ".py",
   "mimetype": "text/x-python",
   "name": "python",
   "nbconvert_exporter": "python",
   "pygments_lexer": "ipython3",
   "version": "3.5.4"
  }
 },
 "nbformat": 4,
 "nbformat_minor": 2
}
