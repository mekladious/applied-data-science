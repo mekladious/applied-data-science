{
 "cells": [
  {
   "cell_type": "code",
   "execution_count": 1,
   "metadata": {},
   "outputs": [],
   "source": [
    "import numpy as np\n",
    "import pandas as pd\n",
    "import time"
   ]
  },
  {
   "cell_type": "code",
   "execution_count": 2,
   "metadata": {},
   "outputs": [
    {
     "name": "stderr",
     "output_type": "stream",
     "text": [
      "/Library/Frameworks/Python.framework/Versions/3.5/lib/python3.5/site-packages/IPython/core/interactiveshell.py:2728: DtypeWarning: Columns (21,26) have mixed types. Specify dtype option on import or set low_memory=False.\n",
      "  interactivity=interactivity, compiler=compiler, result=result)\n"
     ]
    }
   ],
   "source": [
    "prod_filepath = \"./data/production_data.csv\"\n",
    "df_prod = pd.read_csv(prod_filepath)\n",
    "\n",
    "alias_filepath = \"./data/operator_aliasing.csv\"\n",
    "df_alias = pd.read_csv(alias_filepath)\n",
    "\n",
    "wells_filepath = \"./data/wellsData.csv\"\n",
    "df_wells = pd.read_csv(wells_filepath)"
   ]
  },
  {
   "cell_type": "markdown",
   "metadata": {},
   "source": [
    "Adjusting API by adding a leading zero to APIs starting with '5'"
   ]
  },
  {
   "cell_type": "code",
   "execution_count": 3,
   "metadata": {},
   "outputs": [
    {
     "data": {
      "text/plain": [
       "(3703376, 10)"
      ]
     },
     "execution_count": 3,
     "metadata": {},
     "output_type": "execute_result"
    }
   ],
   "source": [
    "df_prod.API=df_prod['API'].apply(lambda value:'0'+str(value) if str(value)[0]=='5' else str(value))\n",
    "df_prod.shape"
   ]
  },
  {
   "cell_type": "markdown",
   "metadata": {},
   "source": [
    "Add Operator Alias"
   ]
  },
  {
   "cell_type": "code",
   "execution_count": 4,
   "metadata": {},
   "outputs": [
    {
     "data": {
      "text/plain": [
       "array(['API', 'Year', 'Month', 'Liquid', 'Gas', 'RatioGasOil', 'Water',\n",
       "       'PercentWater', 'DaysOn', '_LastUpdate', 'Alias'], dtype=object)"
      ]
     },
     "execution_count": 4,
     "metadata": {},
     "output_type": "execute_result"
    }
   ],
   "source": [
    "filter_col = df_prod.columns\n",
    "filter_col = np.append(filter_col, ['Alias'])\n",
    "filter_col"
   ]
  },
  {
   "cell_type": "code",
   "execution_count": 5,
   "metadata": {},
   "outputs": [],
   "source": [
    "df_wells.API=df_wells['API'].apply(lambda value:str(value))"
   ]
  },
  {
   "cell_type": "code",
   "execution_count": 6,
   "metadata": {},
   "outputs": [],
   "source": [
    "wells_alias_df = pd.merge(df_alias[['Name', 'Alias']], df_wells[['operatorNameIHS', 'API']], left_on='Name', right_on='operatorNameIHS', how='outer')\n",
    "new_df = pd.merge(df_prod, wells_alias_df[['operatorNameIHS', 'Alias', 'API']], on='API', how='left')\n",
    "# print(new_df)"
   ]
  },
  {
   "cell_type": "code",
   "execution_count": 7,
   "metadata": {},
   "outputs": [],
   "source": [
    "new_df.Alias.fillna(new_df.operatorNameIHS, inplace=True)\n",
    "# new_df\n",
    "\n",
    "tmp_df = new_df[filter_col]\n",
    "# tmp_df"
   ]
  },
  {
   "cell_type": "code",
   "execution_count": null,
   "metadata": {},
   "outputs": [],
   "source": [
    "# tmp_df.to_csv('data/out.csv')"
   ]
  },
  {
   "cell_type": "markdown",
   "metadata": {},
   "source": [
    "Remove Pre-Peak Months"
   ]
  },
  {
   "cell_type": "code",
   "execution_count": null,
   "metadata": {},
   "outputs": [],
   "source": [
    "# getting peak records\n",
    "peak_records = tmp_df[tmp_df.groupby(['API'])['Liquid'].transform(max) == tmp_df['Liquid']]\n",
    "peak_records_dict = peak_records.set_index('API').to_dict('index')\n",
    "# print(peak_records)\n",
    "# print(peak_records_dict)\n",
    "\n",
    "# filtering out any records before peak months\n",
    "# post_peak = tmp_df[tmp_df['Year']>peak_records_dict[str(tmp_df['API'])]['Year']]\n",
    "# print(post_peak)\n",
    "start = time.time()\n",
    "post_peak = tmp_df[tmp_df.apply(lambda x:np.logical_or((x['Year'] > peak_records_dict[x['API']]['Year']),np.logical_and((x['Year']==peak_records_dict[x['API']]['Year']),(x['Month']>peak_records_dict[x['API']]['Month']))), axis=1)]\n",
    "print(post_peak)\n",
    "end = time.time()\n",
    "print(end-start)\n",
    "\n",
    "# filtering out post-peak records with 0 oil production\n",
    "post_peak = post_peak[post_peak['Liquid']!=0]\n",
    "print(post_peak)"
   ]
  },
  {
   "cell_type": "markdown",
   "metadata": {},
   "source": [
    "Add a Month Index Column"
   ]
  },
  {
   "cell_type": "code",
   "execution_count": 39,
   "metadata": {},
   "outputs": [
    {
     "name": "stdout",
     "output_type": "stream",
     "text": [
      "Writing default config to: /Users/mekladious/.jupyter/jupyter_notebook_config.py\r\n"
     ]
    }
   ],
   "source": [
    "! jupyter notebook --generate-config"
   ]
  },
  {
   "cell_type": "code",
   "execution_count": null,
   "metadata": {},
   "outputs": [],
   "source": []
  }
 ],
 "metadata": {
  "kernelspec": {
   "display_name": "Python 3",
   "language": "python",
   "name": "python3"
  },
  "language_info": {
   "codemirror_mode": {
    "name": "ipython",
    "version": 3
   },
   "file_extension": ".py",
   "mimetype": "text/x-python",
   "name": "python",
   "nbconvert_exporter": "python",
   "pygments_lexer": "ipython3",
   "version": "3.5.4"
  }
 },
 "nbformat": 4,
 "nbformat_minor": 2
}
